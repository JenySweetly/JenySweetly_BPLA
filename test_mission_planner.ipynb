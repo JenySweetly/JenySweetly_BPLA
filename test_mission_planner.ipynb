{
 "cells": [
  {
   "cell_type": "code",
   "execution_count": 2,
   "metadata": {},
   "outputs": [
    {
     "ename": "ModuleNotFoundError",
     "evalue": "No module named 'mission_planner'",
     "output_type": "error",
     "traceback": [
      "\u001b[1;31m---------------------------------------------------------------------------\u001b[0m",
      "\u001b[1;31mModuleNotFoundError\u001b[0m                       Traceback (most recent call last)",
      "Cell \u001b[1;32mIn[2], line 5\u001b[0m\n\u001b[0;32m      3\u001b[0m \u001b[38;5;28;01mimport\u001b[39;00m \u001b[38;5;21;01munittest\u001b[39;00m\n\u001b[0;32m      4\u001b[0m \u001b[38;5;28;01mfrom\u001b[39;00m \u001b[38;5;21;01munittest\u001b[39;00m\u001b[38;5;21;01m.\u001b[39;00m\u001b[38;5;21;01mmock\u001b[39;00m \u001b[38;5;28;01mimport\u001b[39;00m MagicMock, patch, call\n\u001b[1;32m----> 5\u001b[0m \u001b[38;5;28;01mfrom\u001b[39;00m \u001b[38;5;21;01mmission_planner\u001b[39;00m \u001b[38;5;28;01mimport\u001b[39;00m MissionPlanner\n",
      "\u001b[1;31mModuleNotFoundError\u001b[0m: No module named 'mission_planner'"
     ]
    }
   ],
   "source": [
    "# test_mission_planner.py\n",
    "\n",
    "import unittest\n",
    "from unittest.mock import MagicMock, patch, call\n",
    "from mission_planner import MissionPlanner\n"
   ]
  },
  {
   "cell_type": "code",
   "execution_count": null,
   "metadata": {},
   "outputs": [],
   "source": [
    "class TestMissionPlanner(unittest.TestCase):\n",
    "    def setUp(self):\n",
    "        # Создание mock-объекта для UAVControl\n",
    "        self.patcher = patch('mission_planner.UAVControl')\n",
    "        self.mock_uav_control_class = self.patcher.start()\n",
    "        self.mock_uav = MagicMock()\n",
    "        self.mock_uav_control_class.return_value = self.mock_uav\n",
    "        self.planner = MissionPlanner('udp:127.0.0.1:14550')\n",
    "\n",
    "    def tearDown(self):\n",
    "        # Остановка патчера\n",
    "        self.patcher.stop()\n",
    "\n",
    "    def test_execute_mission_success(self):\n",
    "        # Тест успешного выполнения миссии\n",
    "        waypoints = [\n",
    "            (55.0, 37.0, 10.0),\n",
    "            (55.0001, 37.0001, 20.0),\n",
    "            (55.0002, 37.0002, 15.0)\n",
    "        ]\n",
    "\n",
    "        # Настройка side_effect для get_telemetry\n",
    "        telemetry_data = iter([\n",
    "            {'lat': 55.0, 'lon': 37.0, 'alt': 10.0},\n",
    "            {'lat': 55.0001, 'lon': 37.0001, 'alt': 20.0},\n",
    "            {'lat': 55.0002, 'lon': 37.0002, 'alt': 15.0}\n",
    "        ])\n",
    "\n",
    "        self.mock_uav.get_telemetry.side_effect = lambda: next(telemetry_data, None)\n",
    "\n",
    "        self.planner.execute_mission(waypoints)\n",
    "\n",
    "        self.mock_uav.arm.assert_called_once()\n",
    "        self.mock_uav.set_mode.assert_any_call('GUIDED')\n",
    "        self.mock_uav.takeoff.assert_called_once_with(waypoints[0][2])\n",
    "\n",
    "        expected_calls = [call(wp[0], wp[1], wp[2]) for wp in waypoints]\n",
    "        self.assertEqual(self.mock_uav.goto.call_count, len(waypoints))\n",
    "        self.mock_uav.goto.assert_has_calls(expected_calls)\n",
    "\n",
    "        self.mock_uav.set_mode.assert_any_call('RTL')\n",
    "        self.mock_uav.disarm.assert_called_once()\n",
    "\n",
    "    def test_execute_mission_failure(self):\n",
    "        # Тест провала выполнения миссии из-за недостижения точки\n",
    "        waypoints = [\n",
    "            (55.0, 37.0, 10.0),\n",
    "            (55.0001, 37.0001, 20.0)\n",
    "        ]\n",
    "\n",
    "        # Настройка get_telemetry для возвращения неизменных координат\n",
    "        self.mock_uav.get_telemetry.return_value = {\n",
    "            'lat': 55.0,\n",
    "            'lon': 37.0,\n",
    "            'alt': 10.0\n",
    "        }\n",
    "\n",
    "        with self.assertRaises(Exception) as context:\n",
    "            self.planner.execute_mission(waypoints)\n",
    "\n",
    "        self.assertIn('Не удалось достичь точки 1', str(context.exception))\n",
    "        self.mock_uav.disarm.assert_called_once()\n"
   ]
  },
  {
   "cell_type": "code",
   "execution_count": null,
   "metadata": {},
   "outputs": [],
   "source": [
    "if __name__ == \"__main__\":\n",
    "    unittest.main()"
   ]
  }
 ],
 "metadata": {
  "kernelspec": {
   "display_name": "Python 3",
   "language": "python",
   "name": "python3"
  },
  "language_info": {
   "codemirror_mode": {
    "name": "ipython",
    "version": 3
   },
   "file_extension": ".py",
   "mimetype": "text/x-python",
   "name": "python",
   "nbconvert_exporter": "python",
   "pygments_lexer": "ipython3",
   "version": "3.11.9"
  }
 },
 "nbformat": 4,
 "nbformat_minor": 2
}
